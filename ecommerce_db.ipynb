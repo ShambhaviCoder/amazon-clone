{
 "cells": [
  {
   "cell_type": "code",
   "execution_count": 1,
   "metadata": {},
   "outputs": [
    {
     "name": "stdout",
     "output_type": "stream",
     "text": [
      "Database and tables created successfully!\n"
     ]
    }
   ],
   "source": [
    "import sqlite3\n",
    "\n",
    "# Create a new SQLite database or connect to an existing one\n",
    "conn = sqlite3.connect('amazon_clone.db')\n",
    "cursor = conn.cursor()\n",
    "\n",
    "# Create tables for products, customers, orders, and order items\n",
    "cursor.execute('''\n",
    "    CREATE TABLE IF NOT EXISTS products (\n",
    "        id INTEGER PRIMARY KEY,\n",
    "        title TEXT NOT NULL,\n",
    "        description TEXT,\n",
    "        price REAL NOT NULL,\n",
    "        image_url TEXT,\n",
    "        category TEXT,\n",
    "        subcategory TEXT,\n",
    "        brand TEXT,\n",
    "        rating REAL,\n",
    "        reviews INTEGER\n",
    "    );\n",
    "''')\n",
    "\n",
    "cursor.execute('''\n",
    "    CREATE TABLE IF NOT EXISTS customers (\n",
    "        id INTEGER PRIMARY KEY,\n",
    "        first_name TEXT NOT NULL,\n",
    "        last_name TEXT NOT NULL,\n",
    "        email TEXT NOT NULL,\n",
    "        password TEXT NOT NULL,\n",
    "        address TEXT,\n",
    "        phone_number TEXT\n",
    "    );\n",
    "''')\n",
    "\n",
    "cursor.execute('''\n",
    "    CREATE TABLE IF NOT EXISTS orders (\n",
    "        id INTEGER PRIMARY KEY,\n",
    "        customer_id INTEGER NOT NULL,\n",
    "        order_date TEXT NOT NULL,\n",
    "        total REAL NOT NULL,\n",
    "        status TEXT NOT NULL,\n",
    "        FOREIGN KEY (customer_id) REFERENCES customers (id)\n",
    "    );\n",
    "''')\n",
    "\n",
    "cursor.execute('''\n",
    "    CREATE TABLE IF NOT EXISTS order_items (\n",
    "        id INTEGER PRIMARY KEY,\n",
    "        order_id INTEGER NOT NULL,\n",
    "        product_id INTEGER NOT NULL,\n",
    "        quantity INTEGER NOT NULL,\n",
    "        subtotal REAL NOT NULL,\n",
    "        FOREIGN KEY (order_id) REFERENCES orders (id),\n",
    "        FOREIGN KEY (product_id) REFERENCES products (id)\n",
    "    );\n",
    "''')\n",
    "\n",
    "# Commit the changes and close the connection\n",
    "conn.commit()\n",
    "conn.close()\n",
    "\n",
    "print(\"Database and tables created successfully!\")\n"
   ]
  }
 ],
 "metadata": {
  "kernelspec": {
   "display_name": "Python 3",
   "language": "python",
   "name": "python3"
  },
  "language_info": {
   "codemirror_mode": {
    "name": "ipython",
    "version": 3
   },
   "file_extension": ".py",
   "mimetype": "text/x-python",
   "name": "python",
   "nbconvert_exporter": "python",
   "pygments_lexer": "ipython3",
   "version": "3.12.4"
  }
 },
 "nbformat": 4,
 "nbformat_minor": 2
}
